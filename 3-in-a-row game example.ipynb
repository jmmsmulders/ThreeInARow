{
 "cells": [
  {
   "cell_type": "code",
   "execution_count": 1,
   "metadata": {},
   "outputs": [
    {
     "data": {
      "text/html": [
       "<style type=\"text/css\">\n",
       "#T_5ced1_ th {\n",
       "  font-size: 13px;\n",
       "  text-align: center;\n",
       "  font-weight: bold;\n",
       "  color: #6d6d6d;\n",
       "  background-color: #f7f7f9;\n",
       "}\n",
       "#T_5ced1_ td {\n",
       "  font-size: 20px;\n",
       "  font_weight: bold;\n",
       "  text-align: center;\n",
       "  border: 1px solid;\n",
       "  width: 80px;\n",
       "  height: 80px;\n",
       "}\n",
       "#T_5ced1_row0_col0, #T_5ced1_row0_col1, #T_5ced1_row0_col2, #T_5ced1_row0_col3, #T_5ced1_row0_col4, #T_5ced1_row1_col0, #T_5ced1_row1_col1, #T_5ced1_row1_col2, #T_5ced1_row1_col3, #T_5ced1_row1_col4, #T_5ced1_row2_col0, #T_5ced1_row2_col1, #T_5ced1_row2_col2, #T_5ced1_row2_col3, #T_5ced1_row2_col4, #T_5ced1_row3_col2, #T_5ced1_row3_col3, #T_5ced1_row3_col4, #T_5ced1_row4_col4 {\n",
       "  background-color: white;\n",
       "}\n",
       "#T_5ced1_row3_col0, #T_5ced1_row3_col1, #T_5ced1_row4_col0 {\n",
       "  background-color: green;\n",
       "}\n",
       "#T_5ced1_row4_col1, #T_5ced1_row4_col2, #T_5ced1_row4_col3 {\n",
       "  background-color: red;\n",
       "}\n",
       "</style>\n",
       "<table id=\"T_5ced1_\">\n",
       "  <thead>\n",
       "    <tr>\n",
       "      <th class=\"blank level0\" >&nbsp;</th>\n",
       "      <th class=\"col_heading level0 col0\" >A</th>\n",
       "      <th class=\"col_heading level0 col1\" >B</th>\n",
       "      <th class=\"col_heading level0 col2\" >C</th>\n",
       "      <th class=\"col_heading level0 col3\" >D</th>\n",
       "      <th class=\"col_heading level0 col4\" >E</th>\n",
       "    </tr>\n",
       "  </thead>\n",
       "  <tbody>\n",
       "    <tr>\n",
       "      <th id=\"T_5ced1_level0_row0\" class=\"row_heading level0 row0\" >1</th>\n",
       "      <td id=\"T_5ced1_row0_col0\" class=\"data row0 col0\" ></td>\n",
       "      <td id=\"T_5ced1_row0_col1\" class=\"data row0 col1\" ></td>\n",
       "      <td id=\"T_5ced1_row0_col2\" class=\"data row0 col2\" ></td>\n",
       "      <td id=\"T_5ced1_row0_col3\" class=\"data row0 col3\" ></td>\n",
       "      <td id=\"T_5ced1_row0_col4\" class=\"data row0 col4\" ></td>\n",
       "    </tr>\n",
       "    <tr>\n",
       "      <th id=\"T_5ced1_level0_row1\" class=\"row_heading level0 row1\" >2</th>\n",
       "      <td id=\"T_5ced1_row1_col0\" class=\"data row1 col0\" ></td>\n",
       "      <td id=\"T_5ced1_row1_col1\" class=\"data row1 col1\" ></td>\n",
       "      <td id=\"T_5ced1_row1_col2\" class=\"data row1 col2\" ></td>\n",
       "      <td id=\"T_5ced1_row1_col3\" class=\"data row1 col3\" ></td>\n",
       "      <td id=\"T_5ced1_row1_col4\" class=\"data row1 col4\" ></td>\n",
       "    </tr>\n",
       "    <tr>\n",
       "      <th id=\"T_5ced1_level0_row2\" class=\"row_heading level0 row2\" >3</th>\n",
       "      <td id=\"T_5ced1_row2_col0\" class=\"data row2 col0\" ></td>\n",
       "      <td id=\"T_5ced1_row2_col1\" class=\"data row2 col1\" ></td>\n",
       "      <td id=\"T_5ced1_row2_col2\" class=\"data row2 col2\" ></td>\n",
       "      <td id=\"T_5ced1_row2_col3\" class=\"data row2 col3\" ></td>\n",
       "      <td id=\"T_5ced1_row2_col4\" class=\"data row2 col4\" ></td>\n",
       "    </tr>\n",
       "    <tr>\n",
       "      <th id=\"T_5ced1_level0_row3\" class=\"row_heading level0 row3\" >4</th>\n",
       "      <td id=\"T_5ced1_row3_col0\" class=\"data row3 col0\" >X</td>\n",
       "      <td id=\"T_5ced1_row3_col1\" class=\"data row3 col1\" >X</td>\n",
       "      <td id=\"T_5ced1_row3_col2\" class=\"data row3 col2\" ></td>\n",
       "      <td id=\"T_5ced1_row3_col3\" class=\"data row3 col3\" ></td>\n",
       "      <td id=\"T_5ced1_row3_col4\" class=\"data row3 col4\" ></td>\n",
       "    </tr>\n",
       "    <tr>\n",
       "      <th id=\"T_5ced1_level0_row4\" class=\"row_heading level0 row4\" >5</th>\n",
       "      <td id=\"T_5ced1_row4_col0\" class=\"data row4 col0\" >X</td>\n",
       "      <td id=\"T_5ced1_row4_col1\" class=\"data row4 col1\" >O</td>\n",
       "      <td id=\"T_5ced1_row4_col2\" class=\"data row4 col2\" >O</td>\n",
       "      <td id=\"T_5ced1_row4_col3\" class=\"data row4 col3\" >O</td>\n",
       "      <td id=\"T_5ced1_row4_col4\" class=\"data row4 col4\" ></td>\n",
       "    </tr>\n",
       "  </tbody>\n",
       "</table>\n"
      ],
      "text/plain": [
       "<pandas.io.formats.style.Styler at 0x2388f9c3cc0>"
      ]
     },
     "metadata": {},
     "output_type": "display_data"
    },
    {
     "name": "stdout",
     "output_type": "stream",
     "text": [
      "Congratulations! Player 2 won \n",
      "Do you want to play again? (Y/N): N\n"
     ]
    },
    {
     "ename": "SystemExit",
     "evalue": "Game ended",
     "output_type": "error",
     "traceback": [
      "An exception has occurred, use %tb to see the full traceback.\n",
      "\u001b[1;31mSystemExit\u001b[0m\u001b[1;31m:\u001b[0m Game ended\n"
     ]
    },
    {
     "name": "stderr",
     "output_type": "stream",
     "text": [
      "C:\\ProgramData\\Anaconda3\\lib\\site-packages\\IPython\\core\\interactiveshell.py:3304: UserWarning: To exit: use 'exit', 'quit', or Ctrl-D.\n",
      "  warn(\"To exit: use 'exit', 'quit', or Ctrl-D.\", stacklevel=1)\n"
     ]
    }
   ],
   "source": [
    "from three_in_a_row import ThreeInARow\n",
    "\n",
    "game = ThreeInARow()\n",
    "game.play()"
   ]
  }
 ],
 "metadata": {
  "kernelspec": {
   "display_name": "Python 3",
   "language": "python",
   "name": "python3"
  },
  "language_info": {
   "codemirror_mode": {
    "name": "ipython",
    "version": 3
   },
   "file_extension": ".py",
   "mimetype": "text/x-python",
   "name": "python",
   "nbconvert_exporter": "python",
   "pygments_lexer": "ipython3",
   "version": "3.7.3"
  }
 },
 "nbformat": 4,
 "nbformat_minor": 2
}
